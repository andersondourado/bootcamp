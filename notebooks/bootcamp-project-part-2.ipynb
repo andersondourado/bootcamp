{
 "cells": [
  {
   "cell_type": "markdown",
   "metadata": {},
   "source": [
    "## Machine Learning Operations (MLOps)"
   ]
  },
  {
   "cell_type": "code",
   "execution_count": 1,
   "metadata": {},
   "outputs": [
    {
     "data": {
      "text/html": [
       "<style>/* custom.css */\n",
       ".custom-slide {\n",
       "    background-color: #ffffff;\n",
       "    padding: 20px;\n",
       "    border-radius: 10px;\n",
       "    box-shadow: 0 0 10px rgba(0, 0, 0, 0.1);\n",
       "    font-family: 'Arial', sans-serif;\n",
       "    font-size: 18px;\n",
       "    line-height: 1.6;\n",
       "}\n",
       "\n",
       ".custom-slide h1 {\n",
       "    color: #333;\n",
       "    text-align: left;\n",
       "    font-size: 24px;\n",
       "}\n",
       "\n",
       ".custom-slide h2 {\n",
       "    color: #333;\n",
       "    text-align: left;\n",
       "    font-size: 22px;\n",
       "}\n",
       "\n",
       ".custom-slide h3 {\n",
       "    color: #333;\n",
       "    text-align: left;\n",
       "    font-size: 20px;\n",
       "}\n",
       "\n",
       ".custom-slide p, .custom-slide li {\n",
       "    color: #666;\n",
       "    font-size: 16px;\n",
       "}\n",
       "\n",
       "/* Custom style for quotes */\n",
       ".custom-slide blockquote {\n",
       "    background-color: #e0e0e0;\n",
       "    border-left: 5px solid #007acc;\n",
       "    margin: 20px 0;\n",
       "    padding: 10px 20px;\n",
       "    font-style: italic;\n",
       "    color: #555;\n",
       "}\n",
       "\n",
       ".custom-slide blockquote::before {\n",
       "    content: \"“\";\n",
       "    font-size: 30px;\n",
       "    color: #007acc;\n",
       "    margin-right: 10px;\n",
       "}\n",
       "\n",
       ".custom-slide blockquote::after {\n",
       "    content: \"”\";\n",
       "    font-size: 30px;\n",
       "    color: #007acc;\n",
       "    margin-left: 10px;\n",
       "}\n",
       "\n",
       "/* Custom style for information panel */\n",
       ".custom-slide .info-panel {\n",
       "    background-color: #d9edf7;\n",
       "    border: 1px solid #bce8f1;\n",
       "    padding: 15px;\n",
       "    border-radius: 5px;\n",
       "    margin: 20px 0;\n",
       "    color: #31708f;\n",
       "}\n",
       "\n",
       ".custom-slide .info-panel h2 {\n",
       "    color: #31708f;\n",
       "    margin-top: 0;\n",
       "    font-size: 18px;\n",
       "}\n",
       "\n",
       "/* Custom style for image references */\n",
       ".custom-slide .image-ref {\n",
       "    font-size: 12px;\n",
       "    font-style: italic;\n",
       "    color: #666;\n",
       "    margin-top: 5px;\n",
       "    display: block;\n",
       "    text-align: center;\n",
       "}\n",
       "\n",
       "/* Custom style for AI-generated text stamp */\n",
       ".custom-slide .ai-stamp {\n",
       "    display: inline-block;\n",
       "    padding: 5px 10px;\n",
       "    background-color: #ffeb3b;\n",
       "    color: #333;\n",
       "    font-size: 12px;\n",
       "    font-weight: bold;\n",
       "    border: 2px solid #333;\n",
       "    border-radius: 5px;\n",
       "    text-transform: uppercase;\n",
       "    margin-top: 10px;\n",
       "}\n",
       "\n",
       "/* Custom style for hands-on time callout */\n",
       ".custom-slide .hands-on {\n",
       "    background-color: #f5f5f5;\n",
       "    border: 2px solid #4caf50;\n",
       "    padding: 20px;\n",
       "    border-radius: 10px;\n",
       "    margin: 20px 0;\n",
       "    color: #4caf50;\n",
       "    font-size: 20px;\n",
       "    text-align: center;\n",
       "    font-weight: bold;\n",
       "    text-transform: uppercase;\n",
       "    box-shadow: 0 4px 8px rgba(0, 0, 0, 0.1);\n",
       "    font-family: 'Segoe UI', Tahoma, Geneva, Verdana, sans-serif;\n",
       "    position: relative;\n",
       "    overflow: hidden;\n",
       "}\n",
       "\n",
       ".custom-slide .hands-on::before {\n",
       "    content: \" \";\n",
       "    position: absolute;\n",
       "    width: 150%;\n",
       "    height: 150%;\n",
       "    top: -75%;\n",
       "    left: -75%;\n",
       "    background: rgba(255, 255, 255, 0.1);\n",
       "    transform: rotate(45deg);\n",
       "    transition: all 0.3s ease;\n",
       "}\n",
       "\n",
       ".custom-slide .hands-on:hover::before {\n",
       "    top: -100%;\n",
       "    left: -100%;\n",
       "}\n",
       "\n",
       "table {\n",
       "    width: 100%;\n",
       "    border-collapse: collapse;\n",
       "}\n",
       "\n",
       "th, td {\n",
       "    border: 1px solid black;\n",
       "    padding: 8px;\n",
       "    text-align: left;\n",
       "}\n",
       "\n",
       "th {\n",
       "    background-color: #323030;\n",
       "}\n",
       "\n",
       "tr:nth-child(even) {\n",
       "    background-color: #d6e621;\n",
       "}</style>"
      ],
      "text/plain": [
       "<IPython.core.display.HTML object>"
      ]
     },
     "execution_count": 1,
     "metadata": {},
     "output_type": "execute_result"
    }
   ],
   "source": [
    "from IPython.core.display import HTML\n",
    "\n",
    "def load_css():\n",
    "    styles = open(\"css/custom.css\", \"r\").read()\n",
    "    return HTML(f\"<style>{styles}</style>\")\n",
    "\n",
    "load_css()"
   ]
  },
  {
   "cell_type": "markdown",
   "metadata": {},
   "source": [
    "## Importando os pacotes do projeto\n",
    "Vamos centralizar nesta célula a importação de todos os pacotes que iremos utilizar neste notebook"
   ]
  },
  {
   "cell_type": "code",
   "execution_count": 2,
   "metadata": {},
   "outputs": [],
   "source": [
    "from pathlib import Path\n",
    "import sys \n",
    "import os\n",
    "\n",
    "current_path = Path(os.getcwd())\n",
    "parent_path = current_path.parent.absolute()\n",
    "sys.path.append(str(parent_path))\n",
    "\n",
    "import json \n",
    "import folium\n",
    "import numpy as np\n",
    "from sklearn.cluster import KMeans\n",
    "import random\n",
    "import brazilcep\n",
    "from geopy.geocoders import Nominatim\n",
    "import geopy.distance\n",
    "from yellowbrick.cluster import KElbowVisualizer\n",
    "from joblib import dump, load\n",
    "import json\n",
    "import matplotlib.pyplot as plt\n",
    "from matplotlib import gridspec\n",
    "from commons.utils import plot_points, get_delivery_coordinates, load_training_data, prepare_points\n",
    "from mlflow.models import infer_signature\n",
    "from mlflow import MlflowClient\n",
    "import mlflow\n",
    "import json\n",
    "import requests\n",
    "import warnings\n",
    "warnings.filterwarnings('ignore')"
   ]
  },
  {
   "cell_type": "markdown",
   "metadata": {},
   "source": [
    "<div class=\"custom-slide\">\n",
    "    <div class=\"hands-on\">\n",
    "        Revisão da parte 1\n",
    "    </div>\n",
    "</div>"
   ]
  },
  {
   "cell_type": "markdown",
   "metadata": {},
   "source": [
    "## Carregando nossos dados de treino"
   ]
  },
  {
   "cell_type": "code",
   "execution_count": 3,
   "metadata": {},
   "outputs": [
    {
     "name": "stdout",
     "output_type": "stream",
     "text": [
      "Foram carregados 50 arquivos\n",
      "O objeto instances é do tipo <class 'list'>\n"
     ]
    }
   ],
   "source": [
    "instances = load_training_data(path_str = \"../data/train/\")"
   ]
  },
  {
   "cell_type": "markdown",
   "metadata": {},
   "source": [
    "## Prepara os dados de treino"
   ]
  },
  {
   "cell_type": "code",
   "execution_count": 4,
   "metadata": {},
   "outputs": [],
   "source": [
    "points = prepare_points(instances)"
   ]
  },
  {
   "cell_type": "code",
   "execution_count": 5,
   "metadata": {},
   "outputs": [
    {
     "data": {
      "text/plain": [
       "{'lng': -47.7609277270516,\n",
       " 'lat': -15.65246980577859,\n",
       " 'color': 'blue',\n",
       " 'cluster': None,\n",
       " 'dist': None}"
      ]
     },
     "execution_count": 5,
     "metadata": {},
     "output_type": "execute_result"
    }
   ],
   "source": [
    "points[0]"
   ]
  },
  {
   "cell_type": "markdown",
   "metadata": {},
   "source": [
    "<div class=\"custom-slide\">\n",
    "    <h1>Modularização de código</h1>\n",
    "    <p>Percebeu que começemos a encapsular nosso código em funções? Essa é uma boa prática enquanto estamos explorando o problema e começando a formatar nosso modelo. Isso também nos ajuda a evitar cópia de código ao longo do projeto, o que pode facilmente pode resultar em um ambiente exploratório totalmente desorganizado e sem reproducividade.</p>\n",
    "    <p>Quando terminarmos a análise exploratória do problema no jupyter notebook, provavelmente já teremos boa parte da lógica do modeo organizada em funções reutilizáveis :)</p>\n",
    "</div>"
   ]
  },
  {
   "cell_type": "markdown",
   "metadata": {},
   "source": [
    "<div class=\"custom-slide\">\n",
    "    <div class=\"hands-on\">\n",
    "        Continuando nossa implementação\n",
    "    </div>\n",
    "</div>"
   ]
  },
  {
   "cell_type": "markdown",
   "metadata": {},
   "source": [
    "## Treinando o modelo de clustering\n",
    "Já temos um dataset de treino preparado, no qual existem vários pontos de entregas já realizadas. Agora iremos usar este dataset para segmentar essas entregas em clusters. "
   ]
  },
  {
   "cell_type": "markdown",
   "metadata": {},
   "source": [
    "Veja que `points`é uma lista de dicionários. Precisamos convertê-la em uma `numpy.ndarray` para usarmos estes dados de entrada no algoritmo de clustering."
   ]
  },
  {
   "cell_type": "code",
   "execution_count": 6,
   "metadata": {},
   "outputs": [
    {
     "data": {
      "text/plain": [
       "[{'lng': -47.7609277270516,\n",
       "  'lat': -15.65246980577859,\n",
       "  'color': 'blue',\n",
       "  'cluster': None,\n",
       "  'dist': None},\n",
       " {'lng': -47.75734733959318,\n",
       "  'lat': -15.65030404766782,\n",
       "  'color': 'blue',\n",
       "  'cluster': None,\n",
       "  'dist': None},\n",
       " {'lng': -47.738174492381134,\n",
       "  'lat': -15.668652995146136,\n",
       "  'color': 'blue',\n",
       "  'cluster': None,\n",
       "  'dist': None},\n",
       " {'lng': -47.75666348246043,\n",
       "  'lat': -15.646774118576014,\n",
       "  'color': 'blue',\n",
       "  'cluster': None,\n",
       "  'dist': None},\n",
       " {'lng': -47.757018902295506,\n",
       "  'lat': -15.650018577014293,\n",
       "  'color': 'blue',\n",
       "  'cluster': None,\n",
       "  'dist': None}]"
      ]
     },
     "execution_count": 6,
     "metadata": {},
     "output_type": "execute_result"
    }
   ],
   "source": [
    "points[0:5]"
   ]
  },
  {
   "cell_type": "code",
   "execution_count": 7,
   "metadata": {},
   "outputs": [
    {
     "data": {
      "text/plain": [
       "array([[-15.65246981, -47.76092773],\n",
       "       [-15.65030405, -47.75734734],\n",
       "       [-15.668653  , -47.73817449],\n",
       "       [-15.64677412, -47.75666348],\n",
       "       [-15.65001858, -47.7570189 ]])"
      ]
     },
     "execution_count": 7,
     "metadata": {},
     "output_type": "execute_result"
    }
   ],
   "source": [
    "# Preparando os dados para o modelo de clustering\n",
    "input_points = [ (p['lat'], p['lng']) for p in points]\n",
    "input_points = np.array(input_points)\n",
    "input_points[0:5]"
   ]
  },
  {
   "cell_type": "markdown",
   "metadata": {},
   "source": [
    "Agora sim!\n",
    "\n",
    "Um dos primeiros passos de um modelo de clustering é estudar a quantidade ideal de grupos (k). Um dos métodos mais utilizados é conhecido como Elbow method."
   ]
  },
  {
   "cell_type": "code",
   "execution_count": 8,
   "metadata": {},
   "outputs": [
    {
     "data": {
      "image/png": "[encoded data removed]",
      "text/plain": [
       "<Figure size 800x550 with 2 Axes>"
      ]
     },
     "metadata": {},
     "output_type": "display_data"
    },
    {
     "data": {
      "text/plain": [
       "<Axes: title={'center': 'Distortion Score Elbow for KMeans Clustering'}, xlabel='k', ylabel='distortion score'>"
      ]
     },
     "execution_count": 8,
     "metadata": {},
     "output_type": "execute_result"
    }
   ],
   "source": [
    "# Define o modelo base\n",
    "model = KMeans()\n",
    "\n",
    "# Cria um visualizer \n",
    "visualizer = KElbowVisualizer(model, k=(1,50))\n",
    "\n",
    "# Treino vários modelos de clustering\n",
    "visualizer.fit(input_points)\n",
    "\n",
    "# Visualiza os resultados\n",
    "visualizer.show()"
   ]
  },
  {
   "cell_type": "markdown",
   "metadata": {},
   "source": [
    "Veja que podemos extrair as informações do visualizer"
   ]
  },
  {
   "cell_type": "code",
   "execution_count": 9,
   "metadata": {},
   "outputs": [
    {
     "name": "stdout",
     "output_type": "stream",
     "text": [
      "O número ideal de cluster é 6\n",
      "O SSE encontrado foi 46.73600862419016\n"
     ]
    }
   ],
   "source": [
    "print('O número ideal de cluster é {}'.format(visualizer.elbow_value_))\n",
    "print('O SSE encontrado foi {}'.format(visualizer.elbow_score_))"
   ]
  },
  {
   "cell_type": "markdown",
   "metadata": {},
   "source": [
    "Vamos criar uma variável para definir o número de clusters do nosso modelo"
   ]
  },
  {
   "cell_type": "code",
   "execution_count": 10,
   "metadata": {},
   "outputs": [],
   "source": [
    "n_clusters = visualizer.elbow_value_"
   ]
  },
  {
   "cell_type": "markdown",
   "metadata": {},
   "source": [
    "Agora sim, podemos treinar o modelo de clustering com `input_points`"
   ]
  },
  {
   "cell_type": "code",
   "execution_count": 11,
   "metadata": {},
   "outputs": [],
   "source": [
    "# Treina o modelo de clustering\n",
    "model = KMeans(n_clusters = n_clusters, random_state = 0).fit(input_points)\n",
    "\n",
    "# Associa clusters com cada observação de treino\n",
    "predictions = model.predict(input_points)"
   ]
  },
  {
   "cell_type": "markdown",
   "metadata": {},
   "source": [
    "## Exibe o resultado do modelo no mapa"
   ]
  },
  {
   "cell_type": "markdown",
   "metadata": {},
   "source": [
    "Para exibir nosso modelo de clustering no mapa, vamos definir uma cor para cada cluster criado. \n",
    "A ideia é definir a cor de cada ponto de acordo com o seu cluster"
   ]
  },
  {
   "cell_type": "code",
   "execution_count": 12,
   "metadata": {},
   "outputs": [],
   "source": [
    "# Cria uma função para gerar cores aleatórias\n",
    "get_colors = lambda n: [\"#%06x\" % random.randint(0, 0xFFFFFF) for _ in range(n)]"
   ]
  },
  {
   "cell_type": "markdown",
   "metadata": {},
   "source": [
    "Exemplo para retornar uma lista de cores"
   ]
  },
  {
   "cell_type": "code",
   "execution_count": 13,
   "metadata": {},
   "outputs": [
    {
     "data": {
      "text/plain": [
       "['#5f00f3', '#c37bdd', '#eff372', '#3e39ca', '#09d2d3', '#1718ec']"
      ]
     },
     "execution_count": 13,
     "metadata": {},
     "output_type": "execute_result"
    }
   ],
   "source": [
    "colors = get_colors(n_clusters)\n",
    "colors"
   ]
  },
  {
   "cell_type": "markdown",
   "metadata": {},
   "source": [
    "Agora vamos preparar um colormap, no qual vamos associar uma cor para cada cluster"
   ]
  },
  {
   "cell_type": "code",
   "execution_count": 14,
   "metadata": {},
   "outputs": [
    {
     "data": {
      "text/plain": [
       "{0: '#5f00f3',\n",
       " 1: '#c37bdd',\n",
       " 2: '#eff372',\n",
       " 3: '#3e39ca',\n",
       " 4: '#09d2d3',\n",
       " 5: '#1718ec'}"
      ]
     },
     "execution_count": 14,
     "metadata": {},
     "output_type": "execute_result"
    }
   ],
   "source": [
    "cm = dict()\n",
    "for cluster in np.unique(model.labels_):\n",
    "    cm[cluster] = colors[cluster]\n",
    "\n",
    "cm"
   ]
  },
  {
   "cell_type": "code",
   "execution_count": 15,
   "metadata": {},
   "outputs": [
    {
     "data": {
      "text/plain": [
       "[{'lat': -15.623188710465486,\n",
       "  'lng': -47.65238397469197,\n",
       "  'cluster': 0,\n",
       "  'color': 'black',\n",
       "  'type': ['cluster', 'pin'],\n",
       "  'tooltip': 'Cluster 0'},\n",
       " {'lat': -15.649745950686997,\n",
       "  'lng': -47.7902749412903,\n",
       "  'cluster': 1,\n",
       "  'color': 'black',\n",
       "  'type': ['cluster', 'pin'],\n",
       "  'tooltip': 'Cluster 1'},\n",
       " {'lat': -15.757037977498,\n",
       "  'lng': -47.771612075032984,\n",
       "  'cluster': 2,\n",
       "  'color': 'black',\n",
       "  'type': ['cluster', 'pin'],\n",
       "  'tooltip': 'Cluster 2'},\n",
       " {'lat': -15.890221773669836,\n",
       "  'lng': -47.497399544416034,\n",
       "  'cluster': 3,\n",
       "  'color': 'black',\n",
       "  'type': ['cluster', 'pin'],\n",
       "  'tooltip': 'Cluster 3'},\n",
       " {'lat': -15.603417375334981,\n",
       "  'lng': -47.917044479085696,\n",
       "  'cluster': 4,\n",
       "  'color': 'black',\n",
       "  'type': ['cluster', 'pin'],\n",
       "  'tooltip': 'Cluster 4'},\n",
       " {'lat': -15.65940145501782,\n",
       "  'lng': -47.837297176334864,\n",
       "  'cluster': 5,\n",
       "  'color': 'black',\n",
       "  'type': ['cluster', 'pin'],\n",
       "  'tooltip': 'Cluster 5'}]"
      ]
     },
     "execution_count": 15,
     "metadata": {},
     "output_type": "execute_result"
    }
   ],
   "source": [
    "# Preparando os marcadores do mapa\n",
    "markers = []\n",
    "for i, center in enumerate(model.cluster_centers_):\n",
    "    m = dict()\n",
    "    m['lat'] = center[0]\n",
    "    m['lng'] = center[1]\n",
    "    m['cluster'] = i\n",
    "    m['color'] = 'black'\n",
    "    m['type'] = ['cluster', 'pin']\n",
    "    m['tooltip'] = 'Cluster {}'.format(i)\n",
    "    markers.append(m)\n",
    "    \n",
    "markers"
   ]
  },
  {
   "cell_type": "markdown",
   "metadata": {},
   "source": [
    "Finalmente, iremos associar os clusters e cores a cada ponto, assim como criar marcadores para mostrar os centróides de cada cluster no mapa"
   ]
  },
  {
   "cell_type": "code",
   "execution_count": 16,
   "metadata": {},
   "outputs": [
    {
     "data": {
      "text/plain": [
       "[{'lng': -47.7609277270516,\n",
       "  'lat': -15.65246980577859,\n",
       "  'color': '#c37bdd',\n",
       "  'cluster': 1,\n",
       "  'dist': 3.160956832617973},\n",
       " {'lng': -47.75734733959318,\n",
       "  'lat': -15.65030404766782,\n",
       "  'color': '#c37bdd',\n",
       "  'cluster': 1,\n",
       "  'dist': 3.5309949920310046},\n",
       " {'lng': -47.738174492381134,\n",
       "  'lat': -15.668652995146136,\n",
       "  'color': '#c37bdd',\n",
       "  'cluster': 1,\n",
       "  'dist': 5.96484320841163},\n",
       " {'lng': -47.75666348246043,\n",
       "  'lat': -15.646774118576014,\n",
       "  'color': '#c37bdd',\n",
       "  'cluster': 1,\n",
       "  'dist': 3.61878072808948},\n",
       " {'lng': -47.757018902295506,\n",
       "  'lat': -15.650018577014293,\n",
       "  'color': '#c37bdd',\n",
       "  'cluster': 1,\n",
       "  'dist': 3.5657996089447535}]"
      ]
     },
     "execution_count": 16,
     "metadata": {},
     "output_type": "execute_result"
    }
   ],
   "source": [
    "# Preparando os pontos do mapa\n",
    "for p in points:\n",
    "    cluster = model.predict([[ p['lat'], p['lng'] ]] )\n",
    "    c = cluster[0]\n",
    "    p['cluster'] = c\n",
    "    p['color'] = cm[c]\n",
    "\n",
    "    # Calcula a distância do ponto para o seu cluster\n",
    "    coord_p = (p['lat'], p['lng'])\n",
    "    coord_cluster = (markers[c]['lat'], markers[c]['lng'])\n",
    "    p['dist'] = geopy.distance.geodesic(coord_p, coord_cluster).km\n",
    "\n",
    "points[0:5]"
   ]
  },
  {
   "cell_type": "code",
   "execution_count": null,
   "metadata": {},
   "outputs": [],
   "source": [
    "# Exibe todos os dados de treino no mapa\n",
    "m = plot_points(points = points, markers = markers)\n",
    "m"
   ]
  },
  {
   "cell_type": "markdown",
   "metadata": {},
   "source": [
    "## Salvando o modelo em disco"
   ]
  },
  {
   "cell_type": "code",
   "execution_count": null,
   "metadata": {},
   "outputs": [],
   "source": [
    "# Salva o arquivo em disco\n",
    "dump(model, '../temp/clustering_model.joblib') \n",
    "\n",
    "# Lê o arquivo do disco\n",
    "model_new = load('../temp/clustering_model.joblib') \n",
    "model_new"
   ]
  },
  {
   "cell_type": "markdown",
   "metadata": {},
   "source": [
    "<div class=\"custom-slide\">\n",
    "    <h1>Artefatos do modelo</h1>\n",
    "    <p>\n",
    "       Veja que treinamos um modelo de clustering (usando o sklearn) e o salvamos em disco. É exatamente este arquivo que precisar ser acessado posteriormente para implementação do pipeline de inferência do modelo (o que aprendemos como model serving). \n",
    "    </p>\n",
    "    <p>\n",
    "       Vamos tirar um tempo agora para pensar em alguns desafios que você teria para efetivamente salvar este modelo de forma organizada:\n",
    "    </p>\n",
    "    <ul>\n",
    "        <li>\n",
    "            Versionamento: pra começar, seria interessante versionar este modelo. Assim você poderia restaurar um modelo anterior, caso seja necessário.\n",
    "        </li>\n",
    "        <li>\n",
    "            Durante o processo de desenvolvimento deste modelo, criamos gráficos e outras análises que poderiam ser armazenadas juntamente com o modelo para referência futura. Isso pode ajudar na interpretabilidade do modelo.\n",
    "        </li>\n",
    "        <li>\n",
    "            Também realizamos um otimização pequena análise de hyperparâmetros do modelo, no qual identificamos o número ideal de clusters de acordo com o método Elbow. Será que também não seria interessante armazanar os resultados das otimizações do modelo?\n",
    "        </li>\n",
    "    </ul>   \n",
    "\n",
    "Aqui começamos a ser expostos aos desafios reais de machine learning. Em projetos pequenos, muitas vezes os pontos acima são negligenciados; porém, é praticamente impossível escalar um ambiente de ML sem pensar nestes pontos. Afinal, parece que não basta apenas salvar o modelo em disco e usá-lo depois, o problema parece maior.\n",
    "    <p>\n",
    "       Ainda vamos falar sobre as estratégias para organizar os artefatos no nosso modelo. Antes disso, vamos continuar com a implementação do projeto, pois nem sempre um modelo é composto por apenas um algoritmo de ML, a vida real é um pouco mais dura que isso...\n",
    "    </p>\n",
    "</div>"
   ]
  },
  {
   "cell_type": "code",
   "execution_count": null,
   "metadata": {},
   "outputs": [],
   "source": []
  }
 ],
 "metadata": {
  "colab": {
   "provenance": [],
   "toc_visible": true
  },
  "kernelspec": {
   "display_name": "Python 3 (ipykernel)",
   "language": "python",
   "name": "python3"
  },
  "language_info": {
   "codemirror_mode": {
    "name": "ipython",
    "version": 3
   },
   "file_extension": ".py",
   "mimetype": "text/x-python",
   "name": "python",
   "nbconvert_exporter": "python",
   "pygments_lexer": "ipython3",
   "version": "3.10.14"
  }
 },
 "nbformat": 4,
 "nbformat_minor": 4
}
