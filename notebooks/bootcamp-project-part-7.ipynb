{
 "cells": [
  {
   "cell_type": "markdown",
   "metadata": {},
   "source": [
    "## Machine Learning Operations (MLOps)"
   ]
  },
  {
   "cell_type": "code",
   "execution_count": 36,
   "metadata": {},
   "outputs": [
    {
     "data": {
      "text/html": [
       "<style>/* custom.css */\n",
       ".custom-slide {\n",
       "    background-color: #ffffff;\n",
       "    padding: 20px;\n",
       "    border-radius: 10px;\n",
       "    box-shadow: 0 0 10px rgba(0, 0, 0, 0.1);\n",
       "    font-family: 'Arial', sans-serif;\n",
       "    font-size: 18px;\n",
       "    line-height: 1.6;\n",
       "}\n",
       "\n",
       ".custom-slide h1 {\n",
       "    color: #333;\n",
       "    text-align: left;\n",
       "    font-size: 24px;\n",
       "}\n",
       "\n",
       ".custom-slide h2 {\n",
       "    color: #333;\n",
       "    text-align: left;\n",
       "    font-size: 22px;\n",
       "}\n",
       "\n",
       ".custom-slide h3 {\n",
       "    color: #333;\n",
       "    text-align: left;\n",
       "    font-size: 20px;\n",
       "}\n",
       "\n",
       ".custom-slide p, .custom-slide li {\n",
       "    color: #666;\n",
       "    font-size: 16px;\n",
       "}\n",
       "\n",
       "/* Custom style for quotes */\n",
       ".custom-slide blockquote {\n",
       "    background-color: #e0e0e0;\n",
       "    border-left: 5px solid #007acc;\n",
       "    margin: 20px 0;\n",
       "    padding: 10px 20px;\n",
       "    font-style: italic;\n",
       "    color: #555;\n",
       "}\n",
       "\n",
       ".custom-slide blockquote::before {\n",
       "    content: \"“\";\n",
       "    font-size: 30px;\n",
       "    color: #007acc;\n",
       "    margin-right: 10px;\n",
       "}\n",
       "\n",
       ".custom-slide blockquote::after {\n",
       "    content: \"”\";\n",
       "    font-size: 30px;\n",
       "    color: #007acc;\n",
       "    margin-left: 10px;\n",
       "}\n",
       "\n",
       "/* Custom style for information panel */\n",
       ".custom-slide .info-panel {\n",
       "    background-color: #d9edf7;\n",
       "    border: 1px solid #bce8f1;\n",
       "    padding: 15px;\n",
       "    border-radius: 5px;\n",
       "    margin: 20px 0;\n",
       "    color: #31708f;\n",
       "}\n",
       "\n",
       ".custom-slide .info-panel h2 {\n",
       "    color: #31708f;\n",
       "    margin-top: 0;\n",
       "    font-size: 18px;\n",
       "}\n",
       "\n",
       "/* Custom style for image references */\n",
       ".custom-slide .image-ref {\n",
       "    font-size: 12px;\n",
       "    font-style: italic;\n",
       "    color: #666;\n",
       "    margin-top: 5px;\n",
       "    display: block;\n",
       "    text-align: center;\n",
       "}\n",
       "\n",
       "/* Custom style for AI-generated text stamp */\n",
       ".custom-slide .ai-stamp {\n",
       "    display: inline-block;\n",
       "    padding: 5px 10px;\n",
       "    background-color: #ffeb3b;\n",
       "    color: #333;\n",
       "    font-size: 12px;\n",
       "    font-weight: bold;\n",
       "    border: 2px solid #333;\n",
       "    border-radius: 5px;\n",
       "    text-transform: uppercase;\n",
       "    margin-top: 10px;\n",
       "}\n",
       "\n",
       "/* Custom style for hands-on time callout */\n",
       ".custom-slide .hands-on {\n",
       "    background-color: #f5f5f5;\n",
       "    border: 2px solid #4caf50;\n",
       "    padding: 20px;\n",
       "    border-radius: 10px;\n",
       "    margin: 20px 0;\n",
       "    color: #4caf50;\n",
       "    font-size: 20px;\n",
       "    text-align: center;\n",
       "    font-weight: bold;\n",
       "    text-transform: uppercase;\n",
       "    box-shadow: 0 4px 8px rgba(0, 0, 0, 0.1);\n",
       "    font-family: 'Segoe UI', Tahoma, Geneva, Verdana, sans-serif;\n",
       "    position: relative;\n",
       "    overflow: hidden;\n",
       "}\n",
       "\n",
       ".custom-slide .hands-on::before {\n",
       "    content: \" \";\n",
       "    position: absolute;\n",
       "    width: 150%;\n",
       "    height: 150%;\n",
       "    top: -75%;\n",
       "    left: -75%;\n",
       "    background: rgba(255, 255, 255, 0.1);\n",
       "    transform: rotate(45deg);\n",
       "    transition: all 0.3s ease;\n",
       "}\n",
       "\n",
       ".custom-slide .hands-on:hover::before {\n",
       "    top: -100%;\n",
       "    left: -100%;\n",
       "}\n",
       "\n",
       "table {\n",
       "    width: 100%;\n",
       "    border-collapse: collapse;\n",
       "}\n",
       "\n",
       "th, td {\n",
       "    border: 1px solid black;\n",
       "    padding: 8px;\n",
       "    text-align: left;\n",
       "}\n",
       "\n",
       "th {\n",
       "    background-color: #323030;\n",
       "}\n",
       "\n",
       "tr:nth-child(even) {\n",
       "    background-color: #d6e621;\n",
       "}\n",
       "\n",
       "/* Custom style for code snippets */\n",
       ".custom-slide code {\n",
       "    background-color: #f5f5f5;\n",
       "    padding: 2px 4px;\n",
       "    border-radius: 3px;\n",
       "    font-family: 'Courier New', Courier, monospace;\n",
       "    color: #c7254e;\n",
       "    font-size: 16px;\n",
       "}\n",
       "\n",
       ".custom-slide pre {\n",
       "    background-color: #f5f5f5;\n",
       "    padding: 10px;\n",
       "    border-radius: 5px;\n",
       "    border: 1px solid #ccc;\n",
       "    overflow: auto;\n",
       "}\n",
       "\n",
       ".custom-slide pre code {\n",
       "    background-color: transparent;\n",
       "    padding: 0;\n",
       "    border-radius: 0;\n",
       "    font-size: 14px;\n",
       "    color: #333;\n",
       "}</style>"
      ],
      "text/plain": [
       "<IPython.core.display.HTML object>"
      ]
     },
     "execution_count": 36,
     "metadata": {},
     "output_type": "execute_result"
    }
   ],
   "source": [
    "from IPython.core.display import HTML\n",
    "\n",
    "def load_css():\n",
    "    styles = open(\"css/custom.css\", \"r\").read()\n",
    "    return HTML(f\"<style>{styles}</style>\")\n",
    "\n",
    "load_css()"
   ]
  },
  {
   "cell_type": "markdown",
   "metadata": {},
   "source": [
    "## Importando os pacotes do projeto\n",
    "Vamos centralizar nesta célula a importação de todos os pacotes que iremos utilizar neste notebook"
   ]
  },
  {
   "cell_type": "code",
   "execution_count": 37,
   "metadata": {},
   "outputs": [],
   "source": [
    "from pathlib import Path\n",
    "import sys \n",
    "import os\n",
    "\n",
    "current_path = Path(os.getcwd())\n",
    "parent_path = current_path.parent.absolute()\n",
    "sys.path.append(str(parent_path))\n",
    "\n",
    "import json \n",
    "import folium\n",
    "import numpy as np\n",
    "from sklearn.cluster import KMeans\n",
    "import random\n",
    "import brazilcep\n",
    "from geopy.geocoders import Nominatim\n",
    "import geopy.distance\n",
    "from yellowbrick.cluster import KElbowVisualizer\n",
    "from joblib import dump, load\n",
    "import json\n",
    "import configparser\n",
    "import matplotlib.pyplot as plt\n",
    "from matplotlib import gridspec\n",
    "from commons.utils import plot_points, get_delivery_coordinates, load_training_data, prepare_points, prepare_input_points, add_clusters_to_markers, get_colors, enrich_points_with_cluster_info, generate_sample_points, add_sample_points_to_markers, get_drift_params\n",
    "from mlflow.models import infer_signature\n",
    "from mlflow import MlflowClient\n",
    "import mlflow\n",
    "import json\n",
    "import requests\n",
    "import boto3\n",
    "import warnings\n",
    "warnings.filterwarnings('ignore')"
   ]
  },
  {
   "cell_type": "markdown",
   "metadata": {},
   "source": [
    "<div class=\"custom-slide\">\n",
    "    <div class=\"hands-on\">\n",
    "        Continuando nossa implementação\n",
    "    </div>\n",
    "</div>"
   ]
  },
  {
   "cell_type": "code",
   "execution_count": 38,
   "metadata": {},
   "outputs": [],
   "source": [
    "os.environ['AWS_ACCESS_KEY_ID'] = 'user'\n",
    "os.environ['AWS_SECRET_ACCESS_KEY'] = 'password'\n",
    "os.environ['MLFLOW_S3_ENDPOINT_URL'] = 'http://localhost:9000'\n",
    "\n",
    "mlflow.set_tracking_uri(\"http://localhost:5000\")"
   ]
  },
  {
   "cell_type": "markdown",
   "metadata": {},
   "source": [
    "## Usando o modelo em modo batch"
   ]
  },
  {
   "cell_type": "markdown",
   "metadata": {},
   "source": [
    "Podemos carregar e usar nosso modelo para fazer predições em modo batch, sem a necessidade de um endpoint para inferência."
   ]
  },
  {
   "cell_type": "markdown",
   "metadata": {},
   "source": [
    "Primeiramente, vamos criar uma função para retornar as informações do modelo do MLFlow"
   ]
  },
  {
   "cell_type": "code",
   "execution_count": 39,
   "metadata": {},
   "outputs": [],
   "source": [
    "def get_model_uri_by_name_and_alias(model_name, alias):\n",
    "    \n",
    "    # Initialize MLflow client\n",
    "    client = mlflow.tracking.MlflowClient()\n",
    "    \n",
    "    # Get the model version details by alias\n",
    "    model_version_details = client.get_model_version_by_alias(name=model_name, alias=alias)\n",
    "    \n",
    "    # Construct the model URI\n",
    "    model_uri = f\"models:/{model_name}/{model_version_details.version}\"\n",
    "    \n",
    "    return model_uri, model_version_details.run_id"
   ]
  },
  {
   "cell_type": "markdown",
   "metadata": {},
   "source": [
    "Podemos recuperar as informações do nosso modelo da seguinte forma"
   ]
  },
  {
   "cell_type": "code",
   "execution_count": 40,
   "metadata": {},
   "outputs": [],
   "source": [
    "# Example usage\n",
    "model_name = 'prod.bootcamp.kmeans-clustering'\n",
    "alias = 'champion'\n",
    "model_uri, run_id = get_model_uri_by_name_and_alias(model_name, alias)"
   ]
  },
  {
   "cell_type": "markdown",
   "metadata": {},
   "source": [
    "Já com as informações de referência do modelo, podemos carregá-lo"
   ]
  },
  {
   "cell_type": "code",
   "execution_count": 41,
   "metadata": {},
   "outputs": [],
   "source": [
    "# Load model as a PyFuncModel.\n",
    "loaded_model = mlflow.pyfunc.load_model(model_uri)\n",
    "#logged_model = f\"runs:/{run_id}/model\"\n",
    "\n",
    "# Access the underlying custom model\n",
    "custom_model_instance = loaded_model._model_impl.python_model\n",
    "\n",
    "# Predict on a Pandas DataFrame.\n",
    "#import pandas as pd\n",
    "#loaded_model.predict(pd.DataFrame(data))"
   ]
  },
  {
   "cell_type": "code",
   "execution_count": null,
   "metadata": {},
   "outputs": [],
   "source": []
  },
  {
   "cell_type": "markdown",
   "metadata": {},
   "source": [
    "E usar o modelo"
   ]
  },
  {
   "cell_type": "code",
   "execution_count": 42,
   "metadata": {},
   "outputs": [
    {
     "data": {
      "text/plain": [
       "{'is_region_covered': True,\n",
       " 'closest_center': {'id': 1,\n",
       "  'distance_in_km': 3.22,\n",
       "  'lat': -15.623218689539359,\n",
       "  'lng': -47.652364355164764}}"
      ]
     },
     "execution_count": 42,
     "metadata": {},
     "output_type": "execute_result"
    }
   ],
   "source": [
    "data = {\n",
    "    'method': 'predict',\n",
    "    'data': [-15.65246980577859, -47.7609277270516]\n",
    "} \n",
    "loaded_model.predict(data)"
   ]
  },
  {
   "cell_type": "code",
   "execution_count": 43,
   "metadata": {},
   "outputs": [
    {
     "data": {
      "text/plain": [
       "[{'lat': -15.649819548857309, 'lng': -47.79088113532624, 'cluster': 1},\n",
       " {'lat': -15.623218689539359, 'lng': -47.652364355164764, 'cluster': 2},\n",
       " {'lat': -15.655171021701376, 'lng': -47.84372899518792, 'cluster': 3},\n",
       " {'lat': -15.75687535003112, 'lng': -47.77177725564991, 'cluster': 4},\n",
       " {'lat': -15.891018010109825, 'lng': -47.49699296962819, 'cluster': 5}]"
      ]
     },
     "execution_count": 43,
     "metadata": {},
     "output_type": "execute_result"
    }
   ],
   "source": [
    "data = {\n",
    "    'method': 'get_cluster_centroids',\n",
    "    'data': None\n",
    "} \n",
    "loaded_model.predict(data)"
   ]
  },
  {
   "cell_type": "code",
   "execution_count": 44,
   "metadata": {},
   "outputs": [
    {
     "data": {
      "text/plain": [
       "[{'model_name': 'dev.bootcamp.kmeans-clustering',\n",
       "  'aliases': {'candidate-0678db5ff89b48ad8725a4ccb09ef1ec': '26',\n",
       "   'candidate-0e4d3c223aa64b0c901ab36e3497f89f': '6',\n",
       "   'candidate-1558de4cafae4023a2d327ac2b00bb18': '9',\n",
       "   'candidate-22ee921ff2084aa69de3f182562c8c52': '24',\n",
       "   'candidate-4037452c0e3d4d8493bc89e1cfdb9538': '11',\n",
       "   'candidate-4c5d5c9b56c147b9b95ede7113c97d0c': '15',\n",
       "   'candidate-4f40c813e3fc45bd8c4225b1b951ad88': '4',\n",
       "   'candidate-66253a931ce64bc58ed226301aa4efb3': '25',\n",
       "   'candidate-6c1bfb21ba82468ca9f847fe3c1d94ca': '3',\n",
       "   'candidate-6d76bb080fac4d00a748dc95f41a83c6': '20',\n",
       "   'candidate-9942f877e9d047b28d9694bf7321cf3a': '19',\n",
       "   'candidate-9dc850273f6d4423a6162e77be6f8118': '21',\n",
       "   'candidate-a060a22653b4484e9e39b3095d8748ef': '23',\n",
       "   'candidate-ad97cef1337f4894ac9ace7b66222c53': '16',\n",
       "   'candidate-c13ed8ab1f6d4127b8c7b9a1f6b6c257': '22',\n",
       "   'candidate-c69204c106c54f2aae5e98903c0d1e48': '18',\n",
       "   'candidate-c7a7efadc4dd459fa5b55bb7e46e8158': '10',\n",
       "   'candidate-d47121ad7d2e4daebebbc0e36da72e8f': '1',\n",
       "   'candidate-d81512dfd1cf4a3f87a40a538f5d6a29': '17',\n",
       "   'candidate-ef87d4df4b034e848ecfc5961314bd53': '2',\n",
       "   'candidate-f00bb781fcb1406592a3234770fa0ad5': '13',\n",
       "   'candidate-fae9918592eb4bb3a3937efeb3378bd2': '8'},\n",
       "  'version': '26',\n",
       "  'run_id': '0678db5ff89b48ad8725a4ccb09ef1ec'},\n",
       " {'model_name': 'prod.bootcamp.kmeans-clustering',\n",
       "  'aliases': {'champion': '21'},\n",
       "  'version': '21',\n",
       "  'run_id': '0678db5ff89b48ad8725a4ccb09ef1ec'}]"
      ]
     },
     "execution_count": 44,
     "metadata": {},
     "output_type": "execute_result"
    }
   ],
   "source": [
    "data = {\n",
    "    'method': 'get_model_version',\n",
    "    'data': None\n",
    "} \n",
    "loaded_model.predict(data)"
   ]
  },
  {
   "cell_type": "markdown",
   "metadata": {},
   "source": [
    "## Servindo o modelo via API"
   ]
  },
  {
   "cell_type": "markdown",
   "metadata": {},
   "source": [
    "https://mlflow.org/docs/latest/deployment/deploy-model-locally.html\n",
    "\n",
    "Basta acessar o terminar e digitar \n",
    "\n",
    "`export MLFLOW_TRACKING_URI=http://localhost:5000`<br>\n",
    "`export AWS_ACCESS_KEY_ID=user`<br>\n",
    "`export AWS_SECRET_ACCESS_KEY=password`<br>\n",
    "`export MLFLOW_S3_ENDPOINT_URL=http://localhost:9000`<br>\n",
    "`mlflow models serve -m \"models:/prod.bootcamp.kmeans-clustering@champion\" -p8001  --no-conda`"
   ]
  },
  {
   "cell_type": "code",
   "execution_count": 10,
   "metadata": {},
   "outputs": [],
   "source": [
    "#model = mlflow.pyfunc.load_model(\"runs:/{}/model\".format(run_id))\n",
    "#model.serve(port=8001)\n"
   ]
  },
  {
   "cell_type": "code",
   "execution_count": 24,
   "metadata": {},
   "outputs": [
    {
     "name": "stdout",
     "output_type": "stream",
     "text": [
      "{'predictions': [{'model_name': 'dev.bootcamp.kmeans-clustering', 'aliases': {'candidate-0e4d3c223aa64b0c901ab36e3497f89f': '6', 'candidate-1558de4cafae4023a2d327ac2b00bb18': '9', 'candidate-4037452c0e3d4d8493bc89e1cfdb9538': '11', 'candidate-4c5d5c9b56c147b9b95ede7113c97d0c': '15', 'candidate-4f40c813e3fc45bd8c4225b1b951ad88': '4', 'candidate-6c1bfb21ba82468ca9f847fe3c1d94ca': '3', 'candidate-ad97cef1337f4894ac9ace7b66222c53': '16', 'candidate-c69204c106c54f2aae5e98903c0d1e48': '18', 'candidate-c7a7efadc4dd459fa5b55bb7e46e8158': '10', 'candidate-d47121ad7d2e4daebebbc0e36da72e8f': '1', 'candidate-d81512dfd1cf4a3f87a40a538f5d6a29': '17', 'candidate-ef87d4df4b034e848ecfc5961314bd53': '2', 'candidate-f00bb781fcb1406592a3234770fa0ad5': '13', 'candidate-fae9918592eb4bb3a3937efeb3378bd2': '8'}, 'version': '18', 'run_id': 'c69204c106c54f2aae5e98903c0d1e48'}, {'model_name': 'prod.bootcamp.kmeans-clustering', 'aliases': {'champion': '14'}, 'version': '14', 'run_id': 'c69204c106c54f2aae5e98903c0d1e48'}]}\n"
     ]
    }
   ],
   "source": [
    "payload = json.dumps(\n",
    "    {\n",
    "        'inputs': {\n",
    "            'method': 'get_model_version',\n",
    "            'data': None\n",
    "        }\n",
    "    }\n",
    ")\n",
    "\n",
    "response = requests.post(\n",
    "    url=f\"http://localhost:8001/invocations\",\n",
    "    data=payload,\n",
    "    headers={\"Content-Type\": \"application/json\"},\n",
    ")\n",
    "print(response.json())"
   ]
  },
  {
   "cell_type": "code",
   "execution_count": 25,
   "metadata": {},
   "outputs": [
    {
     "name": "stdout",
     "output_type": "stream",
     "text": [
      "{'predictions': [{'lat': -15.623188710465486, 'lng': -47.65238397469197, 'cluster': 1}, {'lat': -15.649745950686997, 'lng': -47.7902749412903, 'cluster': 2}, {'lat': -15.757037977498, 'lng': -47.771612075032984, 'cluster': 3}, {'lat': -15.890221773669836, 'lng': -47.497399544416034, 'cluster': 4}, {'lat': -15.603417375334981, 'lng': -47.917044479085696, 'cluster': 5}, {'lat': -15.65940145501782, 'lng': -47.837297176334864, 'cluster': 6}]}\n"
     ]
    }
   ],
   "source": [
    "payload = json.dumps(\n",
    "    {\n",
    "        'inputs': {\n",
    "            'method': 'get_cluster_centroids',\n",
    "            'data': None\n",
    "        }\n",
    "    }\n",
    ")\n",
    "\n",
    "response = requests.post(\n",
    "    url=f\"http://localhost:8001/invocations\",\n",
    "    data=payload,\n",
    "    headers={\"Content-Type\": \"application/json\"},\n",
    ")\n",
    "print(response.json())"
   ]
  },
  {
   "cell_type": "code",
   "execution_count": 26,
   "metadata": {},
   "outputs": [
    {
     "name": "stdout",
     "output_type": "stream",
     "text": [
      "{'predictions': {'is_region_covered': False, 'closest_center': {'id': 4, 'distance_in_km': 11.53, 'lat': -15.603417375334981, 'lng': -47.917044479085696}}}\n"
     ]
    }
   ],
   "source": [
    "payload = json.dumps(\n",
    "    {\n",
    "        'inputs': {\n",
    "            'method': 'predict',\n",
    "            'data': [-15.913988770795076, -47.60220527168726]\n",
    "        }\n",
    "    }\n",
    ")\n",
    "\n",
    "response = requests.post(\n",
    "    url=f\"http://localhost:8001/invocations\",\n",
    "    data=payload,\n",
    "    headers={\"Content-Type\": \"application/json\"},\n",
    ")\n",
    "print(response.json())"
   ]
  },
  {
   "cell_type": "markdown",
   "metadata": {},
   "source": [
    "<div class=\"custom-slide\">\n",
    "    <h1>Conclusão</h1>\n",
    "    <p>\n",
    "       Parabéns por ter acompanhado o curso até aqui! Realmente fizemos muitas coisas interessantes:\n",
    "    </p>\n",
    "    <ul>\n",
    "        <li>Aulas 1, 2 e 3: Exploramos o problema e criamos um modelo completo de ML</li>\n",
    "        <li>Aula 4: Analisamos o erro do modelo e registramos os resultados para futura análise de model drift</li>\n",
    "        <li>Aula 5: Aprendemos como utilizar um model registry (MLFlow)</li>\n",
    "        <li>Aula 6: Aprendemos como criar um modelo customizado, incorporando algoritmos de ML e regras de negócio. </li>\n",
    "        <li>Aula 7: Aprendemos como implementar os pipelines de inferência (batch e online)</li>\n",
    "    </ul>\n",
    "    <p>\n",
    "       Nas próximas aulas, iremos sair um pouco do ambiente do jupyter notebook para realizar as seguintes tarefas:\n",
    "    </p>\n",
    "    <ul>\n",
    "        <li>Automatizar o pipeline de (re)treino do modelo</li>\n",
    "        <li>Implementar um processo de CI/CD para promover nosso modelo para o ambiente de produção</li>\n",
    "        <li>Implementar nossa própria API para servir o modelo</li>\n",
    "        <li>Analisar o model drift</li>\n",
    "    </ul>\n",
    "    <p>\n",
    "       Vamos em frente para a parte final do curso 🚀\n",
    "    </p>\n",
    "</div>"
   ]
  },
  {
   "cell_type": "markdown",
   "metadata": {},
   "source": [
    "<div class=\"custom-slide\">\n",
    "<h1>Discutindo sobre alta escalabilidade</h1>\n",
    "    <img src=\"images/mlflow-local-serving.png\" alt=\"Sample Image\" style=\"width:100%;border-radius:10px;\">\n",
    "    <span class=\"image-ref\">Source: https://mlflow.org/docs/latest/deployment/deploy-model-locally.html</span>\n",
    "</div>"
   ]
  },
  {
   "cell_type": "markdown",
   "metadata": {},
   "source": [
    "<div class=\"custom-slide\">\n",
    "    <h1>Arquitetura de referência</h1>\n",
    "    <img src=\"images/mlflow-prod-deployment.png\" alt=\"Sample Image\" style=\"width:100%;border-radius:10px;\">\n",
    "    <span class=\"image-ref\">Source: https://mlflow.org/docs/latest/deployment/index.html#id1</span>\n",
    "</div>"
   ]
  },
  {
   "cell_type": "code",
   "execution_count": null,
   "metadata": {},
   "outputs": [],
   "source": []
  }
 ],
 "metadata": {
  "colab": {
   "provenance": [],
   "toc_visible": true
  },
  "kernelspec": {
   "display_name": "Python 3 (ipykernel)",
   "language": "python",
   "name": "python3"
  },
  "language_info": {
   "codemirror_mode": {
    "name": "ipython",
    "version": 3
   },
   "file_extension": ".py",
   "mimetype": "text/x-python",
   "name": "python",
   "nbconvert_exporter": "python",
   "pygments_lexer": "ipython3",
   "version": "3.10.14"
  }
 },
 "nbformat": 4,
 "nbformat_minor": 4
}
