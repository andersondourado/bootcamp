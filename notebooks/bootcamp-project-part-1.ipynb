version https://git-lfs.github.com/spec/v1
oid sha256:86ee6fca96a190d23dee121d4589a01f7edd77186c897cc925dcb66a4afeff5b
size 76810233
